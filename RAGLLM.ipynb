{
  "nbformat": 4,
  "nbformat_minor": 0,
  "metadata": {
    "colab": {
      "provenance": [],
      "gpuType": "T4"
    },
    "kernelspec": {
      "name": "python3",
      "display_name": "Python 3"
    },
    "language_info": {
      "name": "python"
    },
    "accelerator": "GPU"
  },
  "cells": [
    {
      "cell_type": "code",
      "execution_count": 1,
      "metadata": {
        "id": "uHcoT_afVUCO",
        "colab": {
          "base_uri": "https://localhost:8080/"
        },
        "outputId": "aa6fc764-5108-4869-b81e-8bdf55b4539c"
      },
      "outputs": [
        {
          "output_type": "stream",
          "name": "stdout",
          "text": [
            "Requirement already satisfied: langchain in /usr/local/lib/python3.12/dist-packages (0.3.27)\n",
            "Requirement already satisfied: langchain-openai in /usr/local/lib/python3.12/dist-packages (0.3.35)\n",
            "Requirement already satisfied: langchain-ollama in /usr/local/lib/python3.12/dist-packages (0.3.10)\n",
            "Requirement already satisfied: langchain-community in /usr/local/lib/python3.12/dist-packages (0.3.31)\n",
            "Requirement already satisfied: faiss-cpu in /usr/local/lib/python3.12/dist-packages (1.12.0)\n",
            "Requirement already satisfied: duckdb-engine in /usr/local/lib/python3.12/dist-packages (0.17.0)\n",
            "Requirement already satisfied: wikipedia in /usr/local/lib/python3.12/dist-packages (1.4.0)\n",
            "Requirement already satisfied: langchain-core<1.0.0,>=0.3.72 in /usr/local/lib/python3.12/dist-packages (from langchain) (0.3.78)\n",
            "Requirement already satisfied: langchain-text-splitters<1.0.0,>=0.3.9 in /usr/local/lib/python3.12/dist-packages (from langchain) (0.3.11)\n",
            "Requirement already satisfied: langsmith>=0.1.17 in /usr/local/lib/python3.12/dist-packages (from langchain) (0.4.33)\n",
            "Requirement already satisfied: pydantic<3.0.0,>=2.7.4 in /usr/local/lib/python3.12/dist-packages (from langchain) (2.11.10)\n",
            "Requirement already satisfied: SQLAlchemy<3,>=1.4 in /usr/local/lib/python3.12/dist-packages (from langchain) (2.0.43)\n",
            "Requirement already satisfied: requests<3,>=2 in /usr/local/lib/python3.12/dist-packages (from langchain) (2.32.5)\n",
            "Requirement already satisfied: PyYAML>=5.3 in /usr/local/lib/python3.12/dist-packages (from langchain) (6.0.3)\n",
            "Requirement already satisfied: openai<3.0.0,>=1.104.2 in /usr/local/lib/python3.12/dist-packages (from langchain-openai) (1.109.1)\n",
            "Requirement already satisfied: tiktoken<1.0.0,>=0.7.0 in /usr/local/lib/python3.12/dist-packages (from langchain-openai) (0.12.0)\n",
            "Requirement already satisfied: ollama<1.0.0,>=0.5.3 in /usr/local/lib/python3.12/dist-packages (from langchain-ollama) (0.6.0)\n",
            "Requirement already satisfied: aiohttp<4.0.0,>=3.8.3 in /usr/local/lib/python3.12/dist-packages (from langchain-community) (3.13.0)\n",
            "Requirement already satisfied: tenacity!=8.4.0,<10.0.0,>=8.1.0 in /usr/local/lib/python3.12/dist-packages (from langchain-community) (8.5.0)\n",
            "Requirement already satisfied: dataclasses-json<0.7.0,>=0.6.7 in /usr/local/lib/python3.12/dist-packages (from langchain-community) (0.6.7)\n",
            "Requirement already satisfied: pydantic-settings<3.0.0,>=2.10.1 in /usr/local/lib/python3.12/dist-packages (from langchain-community) (2.11.0)\n",
            "Requirement already satisfied: httpx-sse<1.0.0,>=0.4.0 in /usr/local/lib/python3.12/dist-packages (from langchain-community) (0.4.2)\n",
            "Requirement already satisfied: numpy>=1.26.2 in /usr/local/lib/python3.12/dist-packages (from langchain-community) (2.0.2)\n",
            "Requirement already satisfied: packaging in /usr/local/lib/python3.12/dist-packages (from faiss-cpu) (25.0)\n",
            "Requirement already satisfied: duckdb>=0.5.0 in /usr/local/lib/python3.12/dist-packages (from duckdb-engine) (1.3.2)\n",
            "Requirement already satisfied: beautifulsoup4 in /usr/local/lib/python3.12/dist-packages (from wikipedia) (4.13.5)\n",
            "Requirement already satisfied: aiohappyeyeballs>=2.5.0 in /usr/local/lib/python3.12/dist-packages (from aiohttp<4.0.0,>=3.8.3->langchain-community) (2.6.1)\n",
            "Requirement already satisfied: aiosignal>=1.4.0 in /usr/local/lib/python3.12/dist-packages (from aiohttp<4.0.0,>=3.8.3->langchain-community) (1.4.0)\n",
            "Requirement already satisfied: attrs>=17.3.0 in /usr/local/lib/python3.12/dist-packages (from aiohttp<4.0.0,>=3.8.3->langchain-community) (25.4.0)\n",
            "Requirement already satisfied: frozenlist>=1.1.1 in /usr/local/lib/python3.12/dist-packages (from aiohttp<4.0.0,>=3.8.3->langchain-community) (1.8.0)\n",
            "Requirement already satisfied: multidict<7.0,>=4.5 in /usr/local/lib/python3.12/dist-packages (from aiohttp<4.0.0,>=3.8.3->langchain-community) (6.7.0)\n",
            "Requirement already satisfied: propcache>=0.2.0 in /usr/local/lib/python3.12/dist-packages (from aiohttp<4.0.0,>=3.8.3->langchain-community) (0.3.2)\n",
            "Requirement already satisfied: yarl<2.0,>=1.17.0 in /usr/local/lib/python3.12/dist-packages (from aiohttp<4.0.0,>=3.8.3->langchain-community) (1.22.0)\n",
            "Requirement already satisfied: marshmallow<4.0.0,>=3.18.0 in /usr/local/lib/python3.12/dist-packages (from dataclasses-json<0.7.0,>=0.6.7->langchain-community) (3.26.1)\n",
            "Requirement already satisfied: typing-inspect<1,>=0.4.0 in /usr/local/lib/python3.12/dist-packages (from dataclasses-json<0.7.0,>=0.6.7->langchain-community) (0.9.0)\n",
            "Requirement already satisfied: jsonpatch<2.0.0,>=1.33.0 in /usr/local/lib/python3.12/dist-packages (from langchain-core<1.0.0,>=0.3.72->langchain) (1.33)\n",
            "Requirement already satisfied: typing-extensions<5.0.0,>=4.7.0 in /usr/local/lib/python3.12/dist-packages (from langchain-core<1.0.0,>=0.3.72->langchain) (4.15.0)\n",
            "Requirement already satisfied: httpx<1,>=0.23.0 in /usr/local/lib/python3.12/dist-packages (from langsmith>=0.1.17->langchain) (0.28.1)\n",
            "Requirement already satisfied: orjson>=3.9.14 in /usr/local/lib/python3.12/dist-packages (from langsmith>=0.1.17->langchain) (3.11.3)\n",
            "Requirement already satisfied: requests-toolbelt>=1.0.0 in /usr/local/lib/python3.12/dist-packages (from langsmith>=0.1.17->langchain) (1.0.0)\n",
            "Requirement already satisfied: zstandard>=0.23.0 in /usr/local/lib/python3.12/dist-packages (from langsmith>=0.1.17->langchain) (0.25.0)\n",
            "Requirement already satisfied: anyio<5,>=3.5.0 in /usr/local/lib/python3.12/dist-packages (from openai<3.0.0,>=1.104.2->langchain-openai) (4.11.0)\n",
            "Requirement already satisfied: distro<2,>=1.7.0 in /usr/local/lib/python3.12/dist-packages (from openai<3.0.0,>=1.104.2->langchain-openai) (1.9.0)\n",
            "Requirement already satisfied: jiter<1,>=0.4.0 in /usr/local/lib/python3.12/dist-packages (from openai<3.0.0,>=1.104.2->langchain-openai) (0.11.0)\n",
            "Requirement already satisfied: sniffio in /usr/local/lib/python3.12/dist-packages (from openai<3.0.0,>=1.104.2->langchain-openai) (1.3.1)\n",
            "Requirement already satisfied: tqdm>4 in /usr/local/lib/python3.12/dist-packages (from openai<3.0.0,>=1.104.2->langchain-openai) (4.67.1)\n",
            "Requirement already satisfied: annotated-types>=0.6.0 in /usr/local/lib/python3.12/dist-packages (from pydantic<3.0.0,>=2.7.4->langchain) (0.7.0)\n",
            "Requirement already satisfied: pydantic-core==2.33.2 in /usr/local/lib/python3.12/dist-packages (from pydantic<3.0.0,>=2.7.4->langchain) (2.33.2)\n",
            "Requirement already satisfied: typing-inspection>=0.4.0 in /usr/local/lib/python3.12/dist-packages (from pydantic<3.0.0,>=2.7.4->langchain) (0.4.2)\n",
            "Requirement already satisfied: python-dotenv>=0.21.0 in /usr/local/lib/python3.12/dist-packages (from pydantic-settings<3.0.0,>=2.10.1->langchain-community) (1.1.1)\n",
            "Requirement already satisfied: charset_normalizer<4,>=2 in /usr/local/lib/python3.12/dist-packages (from requests<3,>=2->langchain) (3.4.3)\n",
            "Requirement already satisfied: idna<4,>=2.5 in /usr/local/lib/python3.12/dist-packages (from requests<3,>=2->langchain) (3.10)\n",
            "Requirement already satisfied: urllib3<3,>=1.21.1 in /usr/local/lib/python3.12/dist-packages (from requests<3,>=2->langchain) (2.5.0)\n",
            "Requirement already satisfied: certifi>=2017.4.17 in /usr/local/lib/python3.12/dist-packages (from requests<3,>=2->langchain) (2025.10.5)\n",
            "Requirement already satisfied: greenlet>=1 in /usr/local/lib/python3.12/dist-packages (from SQLAlchemy<3,>=1.4->langchain) (3.2.4)\n",
            "Requirement already satisfied: regex>=2022.1.18 in /usr/local/lib/python3.12/dist-packages (from tiktoken<1.0.0,>=0.7.0->langchain-openai) (2024.11.6)\n",
            "Requirement already satisfied: soupsieve>1.2 in /usr/local/lib/python3.12/dist-packages (from beautifulsoup4->wikipedia) (2.8)\n",
            "Requirement already satisfied: httpcore==1.* in /usr/local/lib/python3.12/dist-packages (from httpx<1,>=0.23.0->langsmith>=0.1.17->langchain) (1.0.9)\n",
            "Requirement already satisfied: h11>=0.16 in /usr/local/lib/python3.12/dist-packages (from httpcore==1.*->httpx<1,>=0.23.0->langsmith>=0.1.17->langchain) (0.16.0)\n",
            "Requirement already satisfied: jsonpointer>=1.9 in /usr/local/lib/python3.12/dist-packages (from jsonpatch<2.0.0,>=1.33.0->langchain-core<1.0.0,>=0.3.72->langchain) (3.0.0)\n",
            "Requirement already satisfied: mypy-extensions>=0.3.0 in /usr/local/lib/python3.12/dist-packages (from typing-inspect<1,>=0.4.0->dataclasses-json<0.7.0,>=0.6.7->langchain-community) (1.1.0)\n"
          ]
        }
      ],
      "source": [
        "pip install langchain langchain-openai langchain-ollama langchain-community faiss-cpu duckdb-engine wikipedia"
      ]
    },
    {
      "cell_type": "code",
      "source": [
        "!curl -fsSL https://ollama.com/install.sh | sh"
      ],
      "metadata": {
        "id": "S86pSoBvk0YC",
        "colab": {
          "base_uri": "https://localhost:8080/"
        },
        "outputId": "9a74b11c-b633-40ee-f7f0-47e69f84edb2"
      },
      "execution_count": 2,
      "outputs": [
        {
          "output_type": "stream",
          "name": "stdout",
          "text": [
            ">>> Cleaning up old version at /usr/local/lib/ollama\n",
            ">>> Installing ollama to /usr/local\n",
            ">>> Downloading Linux amd64 bundle\n",
            "######################################################################## 100.0%\n",
            ">>> Adding ollama user to video group...\n",
            ">>> Adding current user to ollama group...\n",
            ">>> Creating ollama systemd service...\n",
            "\u001b[1m\u001b[31mWARNING:\u001b[m systemd is not running\n",
            "\u001b[1m\u001b[31mWARNING:\u001b[m Unable to detect NVIDIA/AMD GPU. Install lspci or lshw to automatically detect and install GPU dependencies.\n",
            ">>> The Ollama API is now available at 127.0.0.1:11434.\n",
            ">>> Install complete. Run \"ollama\" from the command line.\n"
          ]
        }
      ]
    },
    {
      "cell_type": "code",
      "source": [
        "!nohup ollama serve &"
      ],
      "metadata": {
        "id": "zHAmrRCWk5lW",
        "colab": {
          "base_uri": "https://localhost:8080/"
        },
        "outputId": "1fc73d93-113d-42cd-ad4c-e5be494d9b00"
      },
      "execution_count": 3,
      "outputs": [
        {
          "output_type": "stream",
          "name": "stdout",
          "text": [
            "nohup: appending output to 'nohup.out'\n"
          ]
        }
      ]
    },
    {
      "cell_type": "code",
      "source": [
        "!ollama pull scb10x/typhoon2.1-gemma3-4b"
      ],
      "metadata": {
        "id": "NX03apeFk6nZ",
        "colab": {
          "base_uri": "https://localhost:8080/"
        },
        "outputId": "19783f96-0d89-4d9c-d1f4-91cfb0112dfd"
      },
      "execution_count": 4,
      "outputs": [
        {
          "output_type": "stream",
          "name": "stdout",
          "text": [
            "\u001b[?2026h\u001b[?25l\u001b[1G\u001b[?25h\u001b[?2026l\u001b[?2026h\u001b[?25l\u001b[1G\u001b[?25h\u001b[?2026l\u001b[?2026h\u001b[?25l\u001b[1G\u001b[?25h\u001b[?2026l\u001b[?2026h\u001b[?25l\u001b[1G\u001b[?25h\u001b[?2026l\u001b[?2026h\u001b[?25l\u001b[1G\u001b[?25h\u001b[?2026l\u001b[?2026h\u001b[?25l\u001b[1G\u001b[?25h\u001b[?2026l\n"
          ]
        }
      ]
    },
    {
      "cell_type": "code",
      "source": [
        "!ollama list"
      ],
      "metadata": {
        "id": "r6nsCtmzk8I5",
        "colab": {
          "base_uri": "https://localhost:8080/"
        },
        "outputId": "6c714105-c8c3-485d-9314-e71b014d137d"
      },
      "execution_count": 5,
      "outputs": [
        {
          "output_type": "stream",
          "name": "stdout",
          "text": [
            "NAME                                  ID              SIZE      MODIFIED               \n",
            "scb10x/typhoon2.1-gemma3-4b:latest    8cfab9097c9d    2.6 GB    Less than a second ago    \n"
          ]
        }
      ]
    },
    {
      "cell_type": "code",
      "source": [
        "%%time\n",
        "!ollama run scb10x/typhoon2.1-gemma3-4b:latest \"สวัสดี\""
      ],
      "metadata": {
        "id": "lKjhTO_Fk-Uo",
        "colab": {
          "base_uri": "https://localhost:8080/"
        },
        "outputId": "31cc4f01-d2c1-4c1a-c776-4d7321d8e024"
      },
      "execution_count": 6,
      "outputs": [
        {
          "output_type": "stream",
          "name": "stdout",
          "text": [
            "\u001b[?2026h\u001b[?25l\u001b[1G\u001b[?25h\u001b[?2026l\u001b[?2026h\u001b[?25l\u001b[1G\u001b[?25h\u001b[?2026l\u001b[?2026h\u001b[?25l\u001b[1G\u001b[?25h\u001b[?2026l\u001b[?2026h\u001b[?25l\u001b[1G\u001b[?25h\u001b[?2026l\u001b[?2026h\u001b[?25l\u001b[1G\u001b[?25h\u001b[?2026l\u001b[?2026h\u001b[?25l\u001b[1G\u001b[?25h\u001b[?2026l\u001b[?2026h\u001b[?25l\u001b[1G\u001b[?25h\u001b[?2026l\u001b[?2026h\u001b[?25l\u001b[1G\u001b[?25h\u001b[?2026l\u001b[?2026h\u001b[?25l\u001b[1G\u001b[?25h\u001b[?2026l\u001b[?2026h\u001b[?25l\u001b[1G\u001b[?25h\u001b[?2026l\u001b[?2026h\u001b[?25l\u001b[1G\u001b[?25h\u001b[?2026l\u001b[?2026h\u001b[?25l\u001b[1G\u001b[?25h\u001b[?2026l\u001b[?2026h\u001b[?25l\u001b[1G\u001b[?25h\u001b[?2026l\u001b[?2026h\u001b[?25l\u001b[1G\u001b[?25h\u001b[?2026l\u001b[?2026h\u001b[?25l\u001b[1G\u001b[?25h\u001b[?2026l\u001b[?2026h\u001b[?25l\u001b[1G\u001b[?25h\u001b[?2026l\u001b[?2026h\u001b[?25l\u001b[1G\u001b[?25h\u001b[?2026l\u001b[?2026h\u001b[?25l\u001b[1G\u001b[?25h\u001b[?2026l\u001b[?2026h\u001b[?25l\u001b[1G\u001b[?25h\u001b[?2026l\u001b[?2026h\u001b[?25l\u001b[1G\u001b[?25h\u001b[?2026l\u001b[?2026h\u001b[?25l\u001b[1G\u001b[?25h\u001b[?2026l\u001b[?2026h\u001b[?25l\u001b[1G\u001b[?25h\u001b[?2026l\u001b[?2026h\u001b[?25l\u001b[1G\u001b[?25h\u001b[?2026l\u001b[?2026h\u001b[?25l\u001b[1G\u001b[?25h\u001b[?2026l\u001b[?2026h\u001b[?25l\u001b[1G\u001b[?25h\u001b[?2026l\u001b[?2026h\u001b[?25l\u001b[1G\u001b[?25h\u001b[?2026l\u001b[?2026h\u001b[?25l\u001b[1G\u001b[?25h\u001b[?2026l\u001b[?2026h\u001b[?25l\u001b[1G\u001b[?25h\u001b[?2026l\u001b[?2026h\u001b[?25l\u001b[1G\u001b[?25h\u001b[?2026l\u001b[?2026h\u001b[?25l\u001b[1G\u001b[?25h\u001b[?2026l\u001b[?2026h\u001b[?25l\u001b[1G\u001b[?25h\u001b[?2026l\u001b[?2026h\u001b[?25l\u001b[1G\u001b[?25h\u001b[?2026l\u001b[?2026h\u001b[?25l\u001b[1G\u001b[?25h\u001b[?2026l\u001b[?2026h\u001b[?25l\u001b[1G\u001b[?25h\u001b[?2026l\u001b[?2026h\u001b[?25l\u001b[1G\u001b[?25h\u001b[?2026l\u001b[?2026h\u001b[?25l\u001b[1G\u001b[?25h\u001b[?2026l\u001b[?2026h\u001b[?25l\u001b[1G\u001b[?25h\u001b[?2026l\u001b[?2026h\u001b[?25l\u001b[1G\u001b[?25h\u001b[?2026l\u001b[?2026h\u001b[?25l\u001b[1G\u001b[?25h\u001b[?2026l\u001b[?2026h\u001b[?25l\u001b[1G\u001b[?25h\u001b[?2026l\u001b[?2026h\u001b[?25l\u001b[1G\u001b[?25h\u001b[?2026l\u001b[?2026h\u001b[?25l\u001b[1G\u001b[?25h\u001b[?2026l\u001b[?2026h\u001b[?25l\u001b[1G\u001b[?25h\u001b[?2026l\u001b[?2026h\u001b[?25l\u001b[1G\u001b[?25h\u001b[?2026l\u001b[?2026h\u001b[?25l\u001b[1G\u001b[?25h\u001b[?2026l\u001b[?2026h\u001b[?25l\u001b[1G\u001b[?25h\u001b[?2026l\u001b[?2026h\u001b[?25l\u001b[1G\u001b[?25h\u001b[?2026l\u001b[?2026h\u001b[?25l\u001b[1G\u001b[?25h\u001b[?2026l\u001b[?2026h\u001b[?25l\u001b[1G\u001b[?25h\u001b[?2026l\u001b[?2026h\u001b[?25l\u001b[1G\u001b[?25h\u001b[?2026l\u001b[?2026h\u001b[?25l\u001b[1G\u001b[?25h\u001b[?2026l\u001b[?2026h\u001b[?25l\u001b[1G\u001b[?25h\u001b[?2026l\u001b[?2026h\u001b[?25l\u001b[1G\u001b[?25h\u001b[?2026l\u001b[?2026h\u001b[?25l\u001b[1G\u001b[?25h\u001b[?2026l\u001b[?2026h\u001b[?25l\u001b[1G\u001b[?25h\u001b[?2026l\u001b[?2026h\u001b[?25l\u001b[1G\u001b[?25h\u001b[?2026l\u001b[?2026h\u001b[?25l\u001b[1G\u001b[?25h\u001b[?2026l\u001b[?2026h\u001b[?25l\u001b[1G\u001b[?25h\u001b[?2026l\u001b[?2026h\u001b[?25l\u001b[1G\u001b[?25h\u001b[?2026l\u001b[?2026h\u001b[?25l\u001b[1G\u001b[?25h\u001b[?2026l\u001b[?25l\u001b[?2026h\u001b[?25l\u001b[1G\u001b[?25h\u001b[?2026l\u001b[2K\u001b[1G\u001b[?25hสวัสดี\u001b[?25l\u001b[?25hค่ะ\u001b[?25l\u001b[?25h!\u001b[?25l\u001b[?25h ย\u001b[?25l\u001b[?25hิน\u001b[?25l\u001b[?25hดี\u001b[?25l\u001b[?25hที่\u001b[?25l\u001b[?25hได้\u001b[?25l\u001b[?25hรู้จัก\u001b[?25l\u001b[?25hนะคะ\u001b[?25l\u001b[?25h ฉ\u001b[?25l\u001b[?25hัน\u001b[?25l\u001b[?25hชื่อ\u001b[?25l\u001b[?25hไ\u001b[?25l\u001b[?25hต้\u001b[?25l\u001b[?25hฝ\u001b[?25l\u001b[?25hุ่น\u001b[?25l\u001b[?25hค่ะ\u001b[?25l\u001b[?25h ฉ\u001b[?25l\u001b[?25hัน\u001b[?25l\u001b[?25hเป็น\u001b[?25l\u001b[?25h AI\u001b[?25l\u001b[?25h ที่\u001b[?25l\u001b[?25hสร้าง\u001b[?25l\u001b[?25hโดย\u001b[?25l\u001b[?25h SC\u001b[?25l\u001b[?25hB\u001b[?25l\u001b[?25h \u001b[?25l\u001b[?25h1\u001b[?25l\u001b[?25h0\u001b[?25l\u001b[?25hX\u001b[?25l\u001b[?25h เพื่อ\u001b[?25l\u001b[?25hช่วยเหลือ\u001b[?25l\u001b[?25hอย่าง\u001b[?25l\u001b[?25hมี\u001b[?25l\u001b[?25hประโยชน์\u001b[?25l\u001b[?25h ป\u001b[?25l\u001b[?25hลอด\u001b[?25l\u001b[?25hภัย\u001b[?25l\u001b[?25h และ\u001b[?25l\u001b[?25hซ\u001b[?25l\u001b[?25hื่อ\u001b[?25l\u001b[?25hส\u001b[?25l\u001b[?25hัต\u001b[?25l\u001b[?25hย์\u001b[?25l\u001b[?25hค่ะ\u001b[?25l\u001b[?25h มี\u001b[?25l\u001b[?25hอะไร\u001b[?25l\u001b[?25hให้\u001b[?25l\u001b[?25hฉัน\u001b[?25l\u001b[?25hช่วย\u001b[?25l\u001b[?25hไหม\u001b[?25l\u001b[?25hคะ\u001b[?25l\u001b[?25h?\u001b[?25l\u001b[?25h\n",
            "\n",
            "\u001b[?25l\u001b[?25hCPU times: user 39.1 ms, sys: 10.2 ms, total: 49.3 ms\n",
            "Wall time: 7.92 s\n"
          ]
        }
      ]
    },
    {
      "cell_type": "code",
      "source": [
        "from google.colab import drive\n",
        "drive.mount('/content/drive')"
      ],
      "metadata": {
        "id": "bdaaF28Uk-ZX",
        "colab": {
          "base_uri": "https://localhost:8080/"
        },
        "outputId": "b8c07804-00d6-4b27-d899-07f5d8f4e5fc"
      },
      "execution_count": 7,
      "outputs": [
        {
          "output_type": "stream",
          "name": "stdout",
          "text": [
            "Drive already mounted at /content/drive; to attempt to forcibly remount, call drive.mount(\"/content/drive\", force_remount=True).\n"
          ]
        }
      ]
    },
    {
      "cell_type": "code",
      "source": [],
      "metadata": {
        "id": "dk3oNORZlBIm"
      },
      "execution_count": 7,
      "outputs": []
    },
    {
      "cell_type": "code",
      "source": [
        "!ls /content/drive/MyDrive/RAG"
      ],
      "metadata": {
        "id": "jznYYB45lBLZ",
        "colab": {
          "base_uri": "https://localhost:8080/"
        },
        "outputId": "e49dd825-49b0-43c5-cbab-0c8694aba691"
      },
      "execution_count": 8,
      "outputs": [
        {
          "output_type": "stream",
          "name": "stdout",
          "text": [
            "MCU  Untitled\n"
          ]
        }
      ]
    },
    {
      "cell_type": "code",
      "source": [
        "from langchain_ollama import OllamaLLM"
      ],
      "metadata": {
        "id": "5Ji-imgklBN2"
      },
      "execution_count": 9,
      "outputs": []
    },
    {
      "cell_type": "code",
      "source": [
        "llm = OllamaLLM(model=\"scb10x/typhoon2.1-gemma3-4b:latest\")"
      ],
      "metadata": {
        "id": "5tN0eswslTHT"
      },
      "execution_count": 10,
      "outputs": []
    },
    {
      "cell_type": "code",
      "source": [
        "response = llm.invoke(\"สวัสดี\")\n",
        "print(response)"
      ],
      "metadata": {
        "id": "1RKzDT9wlm14",
        "colab": {
          "base_uri": "https://localhost:8080/"
        },
        "outputId": "c9f2c2c6-6e4a-4ada-c0fd-184f3d8f5f5e"
      },
      "execution_count": 11,
      "outputs": [
        {
          "output_type": "stream",
          "name": "stdout",
          "text": [
            "สวัสดีครับ! ยินดีที่ได้รู้จักครับ ผมชื่อ Typhoon สร้างโดย SCB 10X เพื่อให้ความช่วยเหลืออย่างมีประโยชน์ ปลอดภัย และซื่อสัตย์ครับ มีอะไรให้ผมช่วยไหมครับ?\n"
          ]
        }
      ]
    },
    {
      "cell_type": "code",
      "source": [
        "from langchain.memory import ConversationBufferMemory\n",
        "from langchain.chains import ConversationChain\n",
        "from langchain_ollama import ChatOllama"
      ],
      "metadata": {
        "id": "iLmQckGnkyPW"
      },
      "execution_count": 12,
      "outputs": []
    },
    {
      "cell_type": "code",
      "source": [
        "llm2 = ChatOllama(model=\"scb10x/typhoon2.1-gemma3-4b:latest\")\n",
        "memory = ConversationBufferMemory()\n",
        "conversation = ConversationChain(llm=llm2, memory=memory, verbose=True)\n",
        "conversation.predict(input=\"สวัสดีครับ\")\n",
        "conversation.predict(input=\"จำได้มั้ยว่าผมทักว่าอะไร?\")"
      ],
      "metadata": {
        "id": "y_CWZzYkXGro",
        "colab": {
          "base_uri": "https://localhost:8080/",
          "height": 576
        },
        "outputId": "bfab6fa2-1e30-4d69-da96-18a347ee5bf0"
      },
      "execution_count": 13,
      "outputs": [
        {
          "output_type": "stream",
          "name": "stderr",
          "text": [
            "/tmp/ipython-input-3628994405.py:2: LangChainDeprecationWarning: Please see the migration guide at: https://python.langchain.com/docs/versions/migrating_memory/\n",
            "  memory = ConversationBufferMemory()\n",
            "/tmp/ipython-input-3628994405.py:3: LangChainDeprecationWarning: The class `ConversationChain` was deprecated in LangChain 0.2.7 and will be removed in 1.0. Use :class:`~langchain_core.runnables.history.RunnableWithMessageHistory` instead.\n",
            "  conversation = ConversationChain(llm=llm2, memory=memory, verbose=True)\n"
          ]
        },
        {
          "output_type": "stream",
          "name": "stdout",
          "text": [
            "\n",
            "\n",
            "\u001b[1m> Entering new ConversationChain chain...\u001b[0m\n",
            "Prompt after formatting:\n",
            "\u001b[32;1m\u001b[1;3mThe following is a friendly conversation between a human and an AI. The AI is talkative and provides lots of specific details from its context. If the AI does not know the answer to a question, it truthfully says it does not know.\n",
            "\n",
            "Current conversation:\n",
            "\n",
            "Human: สวัสดีครับ\n",
            "AI:\u001b[0m\n",
            "\n",
            "\u001b[1m> Finished chain.\u001b[0m\n",
            "\n",
            "\n",
            "\u001b[1m> Entering new ConversationChain chain...\u001b[0m\n",
            "Prompt after formatting:\n",
            "\u001b[32;1m\u001b[1;3mThe following is a friendly conversation between a human and an AI. The AI is talkative and provides lots of specific details from its context. If the AI does not know the answer to a question, it truthfully says it does not know.\n",
            "\n",
            "Current conversation:\n",
            "Human: สวัสดีครับ\n",
            "AI: สวัสดีครับ! ยินดีที่ได้คุยกับคุณ ผมชื่อ Typhoon และผมถูกสร้างขึ้นโดย SCB 10X เพื่อให้ความช่วยเหลืออย่างเป็นมิตร ปลอดภัย และซื่อสัตย์ ผมยินดีที่จะตอบคำถามของคุณหรือช่วยคุณในทุกๆ เรื่องที่คุณต้องการครับ 😊\n",
            "\n",
            "Human: จำได้มั้ยว่าผมทักว่าอะไร?\n",
            "AI:\u001b[0m\n",
            "\n",
            "\u001b[1m> Finished chain.\u001b[0m\n"
          ]
        },
        {
          "output_type": "execute_result",
          "data": {
            "text/plain": [
              "'แน่นอนครับ! คุณทักมาเมื่อกี้ว่า \"จำได้มั้ยว่าผมทักว่าอะไร?\" 😊'"
            ],
            "application/vnd.google.colaboratory.intrinsic+json": {
              "type": "string"
            }
          },
          "metadata": {},
          "execution_count": 13
        }
      ]
    },
    {
      "cell_type": "code",
      "source": [
        "conversation.predict(input=\"สวัสดีครับ\")\n",
        "conversation.predict(input=\"จำได้มั้ยว่าผมทักว่าอะไร?\")"
      ],
      "metadata": {
        "id": "lIIKzpR5eUg3",
        "colab": {
          "base_uri": "https://localhost:8080/",
          "height": 645
        },
        "outputId": "b50b3c01-7d52-49d2-a89e-76f25b7dd332"
      },
      "execution_count": 14,
      "outputs": [
        {
          "output_type": "stream",
          "name": "stdout",
          "text": [
            "\n",
            "\n",
            "\u001b[1m> Entering new ConversationChain chain...\u001b[0m\n",
            "Prompt after formatting:\n",
            "\u001b[32;1m\u001b[1;3mThe following is a friendly conversation between a human and an AI. The AI is talkative and provides lots of specific details from its context. If the AI does not know the answer to a question, it truthfully says it does not know.\n",
            "\n",
            "Current conversation:\n",
            "Human: สวัสดีครับ\n",
            "AI: สวัสดีครับ! ยินดีที่ได้คุยกับคุณ ผมชื่อ Typhoon และผมถูกสร้างขึ้นโดย SCB 10X เพื่อให้ความช่วยเหลืออย่างเป็นมิตร ปลอดภัย และซื่อสัตย์ ผมยินดีที่จะตอบคำถามของคุณหรือช่วยคุณในทุกๆ เรื่องที่คุณต้องการครับ 😊\n",
            "\n",
            "Human: จำได้มั้ยว่าผมทักว่าอะไร?\n",
            "AI: แน่นอนครับ! คุณทักมาเมื่อกี้ว่า \"จำได้มั้ยว่าผมทักว่าอะไร?\" 😊\n",
            "Human: สวัสดีครับ\n",
            "AI:\u001b[0m\n",
            "\n",
            "\u001b[1m> Finished chain.\u001b[0m\n",
            "\n",
            "\n",
            "\u001b[1m> Entering new ConversationChain chain...\u001b[0m\n",
            "Prompt after formatting:\n",
            "\u001b[32;1m\u001b[1;3mThe following is a friendly conversation between a human and an AI. The AI is talkative and provides lots of specific details from its context. If the AI does not know the answer to a question, it truthfully says it does not know.\n",
            "\n",
            "Current conversation:\n",
            "Human: สวัสดีครับ\n",
            "AI: สวัสดีครับ! ยินดีที่ได้คุยกับคุณ ผมชื่อ Typhoon และผมถูกสร้างขึ้นโดย SCB 10X เพื่อให้ความช่วยเหลืออย่างเป็นมิตร ปลอดภัย และซื่อสัตย์ ผมยินดีที่จะตอบคำถามของคุณหรือช่วยคุณในทุกๆ เรื่องที่คุณต้องการครับ 😊\n",
            "\n",
            "Human: จำได้มั้ยว่าผมทักว่าอะไร?\n",
            "AI: แน่นอนครับ! คุณทักมาเมื่อกี้ว่า \"จำได้มั้ยว่าผมทักว่าอะไร?\" 😊\n",
            "Human: สวัสดีครับ\n",
            "AI: สวัสดีครับ! ยินดีที่ได้คุยกับคุณอีกครั้ง 😊\n",
            "Human: จำได้มั้ยว่าผมทักว่าอะไร?\n",
            "AI:\u001b[0m\n",
            "\n",
            "\u001b[1m> Finished chain.\u001b[0m\n"
          ]
        },
        {
          "output_type": "execute_result",
          "data": {
            "text/plain": [
              "'แน่นอนครับ! คุณทักมาเมื่อกี้ว่า \"จำได้มั้ยว่าผมทักว่าอะไร?\" 😊'"
            ],
            "application/vnd.google.colaboratory.intrinsic+json": {
              "type": "string"
            }
          },
          "metadata": {},
          "execution_count": 14
        }
      ]
    },
    {
      "cell_type": "code",
      "source": [
        "from langchain.vectorstores import FAISS\n",
        "from langchain.embeddings import OpenAIEmbeddings\n",
        "from langchain.text_splitter import CharacterTextSplitter\n",
        "from langchain.chains import RetrievalQA\n",
        "from langchain.docstore.document import Document"
      ],
      "metadata": {
        "id": "04NscLECn23P"
      },
      "execution_count": 15,
      "outputs": []
    },
    {
      "cell_type": "code",
      "source": [
        "docs = [\n",
        "    Document(page_content=\"LangChain คือ framework สำหรับ LLM\"),\n",
        "    Document(page_content=\"Python เป็นภาษายอดนิยมสำหรับ AI\")\n",
        "]"
      ],
      "metadata": {
        "id": "Td92YI-voZrt"
      },
      "execution_count": 16,
      "outputs": []
    },
    {
      "cell_type": "code",
      "source": [
        "embeddings = OpenAIEmbeddings()\n",
        "vectorstore = FAISS.from_documents(docs, embeddings)"
      ],
      "metadata": {
        "id": "GuRZFRrDoqOC",
        "colab": {
          "base_uri": "https://localhost:8080/",
          "height": 411
        },
        "outputId": "d6f0448f-d142-46e1-b75f-7f6a7876cc4b"
      },
      "execution_count": 17,
      "outputs": [
        {
          "output_type": "stream",
          "name": "stderr",
          "text": [
            "/tmp/ipython-input-1149627150.py:1: LangChainDeprecationWarning: The class `OpenAIEmbeddings` was deprecated in LangChain 0.0.9 and will be removed in 1.0. An updated version of the class exists in the :class:`~langchain-openai package and should be used instead. To use it run `pip install -U :class:`~langchain-openai` and import as `from :class:`~langchain_openai import OpenAIEmbeddings``.\n",
            "  embeddings = OpenAIEmbeddings()\n"
          ]
        },
        {
          "output_type": "error",
          "ename": "ValidationError",
          "evalue": "1 validation error for OpenAIEmbeddings\n  Value error, Did not find openai_api_key, please add an environment variable `OPENAI_API_KEY` which contains it, or pass `openai_api_key` as a named parameter. [type=value_error, input_value={'model_kwargs': {}, 'cli...20, 'http_client': None}, input_type=dict]\n    For further information visit https://errors.pydantic.dev/2.11/v/value_error",
          "traceback": [
            "\u001b[0;31m---------------------------------------------------------------------------\u001b[0m",
            "\u001b[0;31mValidationError\u001b[0m                           Traceback (most recent call last)",
            "\u001b[0;32m/tmp/ipython-input-1149627150.py\u001b[0m in \u001b[0;36m<cell line: 0>\u001b[0;34m()\u001b[0m\n\u001b[0;32m----> 1\u001b[0;31m \u001b[0membeddings\u001b[0m \u001b[0;34m=\u001b[0m \u001b[0mOpenAIEmbeddings\u001b[0m\u001b[0;34m(\u001b[0m\u001b[0;34m)\u001b[0m\u001b[0;34m\u001b[0m\u001b[0;34m\u001b[0m\u001b[0m\n\u001b[0m\u001b[1;32m      2\u001b[0m \u001b[0mvectorstore\u001b[0m \u001b[0;34m=\u001b[0m \u001b[0mFAISS\u001b[0m\u001b[0;34m.\u001b[0m\u001b[0mfrom_documents\u001b[0m\u001b[0;34m(\u001b[0m\u001b[0mdocs\u001b[0m\u001b[0;34m,\u001b[0m \u001b[0membeddings\u001b[0m\u001b[0;34m)\u001b[0m\u001b[0;34m\u001b[0m\u001b[0;34m\u001b[0m\u001b[0m\n",
            "\u001b[0;32m/usr/local/lib/python3.12/dist-packages/langchain_core/_api/deprecation.py\u001b[0m in \u001b[0;36mwarn_if_direct_instance\u001b[0;34m(self, *args, **kwargs)\u001b[0m\n\u001b[1;32m    224\u001b[0m                         \u001b[0mwarned\u001b[0m \u001b[0;34m=\u001b[0m \u001b[0;32mTrue\u001b[0m\u001b[0;34m\u001b[0m\u001b[0;34m\u001b[0m\u001b[0m\n\u001b[1;32m    225\u001b[0m                         \u001b[0memit_warning\u001b[0m\u001b[0;34m(\u001b[0m\u001b[0;34m)\u001b[0m\u001b[0;34m\u001b[0m\u001b[0;34m\u001b[0m\u001b[0m\n\u001b[0;32m--> 226\u001b[0;31m                     \u001b[0;32mreturn\u001b[0m \u001b[0mwrapped\u001b[0m\u001b[0;34m(\u001b[0m\u001b[0mself\u001b[0m\u001b[0;34m,\u001b[0m \u001b[0;34m*\u001b[0m\u001b[0margs\u001b[0m\u001b[0;34m,\u001b[0m \u001b[0;34m**\u001b[0m\u001b[0mkwargs\u001b[0m\u001b[0;34m)\u001b[0m\u001b[0;34m\u001b[0m\u001b[0;34m\u001b[0m\u001b[0m\n\u001b[0m\u001b[1;32m    227\u001b[0m \u001b[0;34m\u001b[0m\u001b[0m\n\u001b[1;32m    228\u001b[0m                 obj.__init__ = functools.wraps(obj.__init__)(  # type: ignore[misc]\n",
            "\u001b[0;32m/usr/local/lib/python3.12/dist-packages/pydantic/main.py\u001b[0m in \u001b[0;36m__init__\u001b[0;34m(self, **data)\u001b[0m\n\u001b[1;32m    251\u001b[0m         \u001b[0;31m# `__tracebackhide__` tells pytest and some other tools to omit this function from tracebacks\u001b[0m\u001b[0;34m\u001b[0m\u001b[0;34m\u001b[0m\u001b[0m\n\u001b[1;32m    252\u001b[0m         \u001b[0m__tracebackhide__\u001b[0m \u001b[0;34m=\u001b[0m \u001b[0;32mTrue\u001b[0m\u001b[0;34m\u001b[0m\u001b[0;34m\u001b[0m\u001b[0m\n\u001b[0;32m--> 253\u001b[0;31m         \u001b[0mvalidated_self\u001b[0m \u001b[0;34m=\u001b[0m \u001b[0mself\u001b[0m\u001b[0;34m.\u001b[0m\u001b[0m__pydantic_validator__\u001b[0m\u001b[0;34m.\u001b[0m\u001b[0mvalidate_python\u001b[0m\u001b[0;34m(\u001b[0m\u001b[0mdata\u001b[0m\u001b[0;34m,\u001b[0m \u001b[0mself_instance\u001b[0m\u001b[0;34m=\u001b[0m\u001b[0mself\u001b[0m\u001b[0;34m)\u001b[0m\u001b[0;34m\u001b[0m\u001b[0;34m\u001b[0m\u001b[0m\n\u001b[0m\u001b[1;32m    254\u001b[0m         \u001b[0;32mif\u001b[0m \u001b[0mself\u001b[0m \u001b[0;32mis\u001b[0m \u001b[0;32mnot\u001b[0m \u001b[0mvalidated_self\u001b[0m\u001b[0;34m:\u001b[0m\u001b[0;34m\u001b[0m\u001b[0;34m\u001b[0m\u001b[0m\n\u001b[1;32m    255\u001b[0m             warnings.warn(\n",
            "\u001b[0;31mValidationError\u001b[0m: 1 validation error for OpenAIEmbeddings\n  Value error, Did not find openai_api_key, please add an environment variable `OPENAI_API_KEY` which contains it, or pass `openai_api_key` as a named parameter. [type=value_error, input_value={'model_kwargs': {}, 'cli...20, 'http_client': None}, input_type=dict]\n    For further information visit https://errors.pydantic.dev/2.11/v/value_error"
          ]
        }
      ]
    },
    {
      "cell_type": "code",
      "source": [
        "qa = RetrievalQA.from_chain_type(\n",
        "    llm=llm2,\n",
        "    retriever=vectorstore.as_retriever()\n",
        ")"
      ],
      "metadata": {
        "id": "wwbcXrTWovcS",
        "colab": {
          "base_uri": "https://localhost:8080/",
          "height": 193
        },
        "outputId": "fc09ccb4-4816-457c-e672-78dbbcfaf608"
      },
      "execution_count": 18,
      "outputs": [
        {
          "output_type": "error",
          "ename": "NameError",
          "evalue": "name 'vectorstore' is not defined",
          "traceback": [
            "\u001b[0;31m---------------------------------------------------------------------------\u001b[0m",
            "\u001b[0;31mNameError\u001b[0m                                 Traceback (most recent call last)",
            "\u001b[0;32m/tmp/ipython-input-3382294875.py\u001b[0m in \u001b[0;36m<cell line: 0>\u001b[0;34m()\u001b[0m\n\u001b[1;32m      1\u001b[0m qa = RetrievalQA.from_chain_type(\n\u001b[1;32m      2\u001b[0m     \u001b[0mllm\u001b[0m\u001b[0;34m=\u001b[0m\u001b[0mllm2\u001b[0m\u001b[0;34m,\u001b[0m\u001b[0;34m\u001b[0m\u001b[0;34m\u001b[0m\u001b[0m\n\u001b[0;32m----> 3\u001b[0;31m     \u001b[0mretriever\u001b[0m\u001b[0;34m=\u001b[0m\u001b[0mvectorstore\u001b[0m\u001b[0;34m.\u001b[0m\u001b[0mas_retriever\u001b[0m\u001b[0;34m(\u001b[0m\u001b[0;34m)\u001b[0m\u001b[0;34m\u001b[0m\u001b[0;34m\u001b[0m\u001b[0m\n\u001b[0m\u001b[1;32m      4\u001b[0m )\n",
            "\u001b[0;31mNameError\u001b[0m: name 'vectorstore' is not defined"
          ]
        }
      ]
    },
    {
      "cell_type": "code",
      "metadata": {
        "id": "559f6a0e",
        "colab": {
          "base_uri": "https://localhost:8080/",
          "height": 141
        },
        "outputId": "71a9cd64-393a-47fd-e35f-17fbcae1cf14"
      },
      "source": [
        "result = qa.invoke(\"LangChain คืออะไร\")"
      ],
      "execution_count": 19,
      "outputs": [
        {
          "output_type": "error",
          "ename": "NameError",
          "evalue": "name 'qa' is not defined",
          "traceback": [
            "\u001b[0;31m---------------------------------------------------------------------------\u001b[0m",
            "\u001b[0;31mNameError\u001b[0m                                 Traceback (most recent call last)",
            "\u001b[0;32m/tmp/ipython-input-3922502010.py\u001b[0m in \u001b[0;36m<cell line: 0>\u001b[0;34m()\u001b[0m\n\u001b[0;32m----> 1\u001b[0;31m \u001b[0mresult\u001b[0m \u001b[0;34m=\u001b[0m \u001b[0mqa\u001b[0m\u001b[0;34m.\u001b[0m\u001b[0minvoke\u001b[0m\u001b[0;34m(\u001b[0m\u001b[0;34m\"LangChain คืออะไร\"\u001b[0m\u001b[0;34m)\u001b[0m\u001b[0;34m\u001b[0m\u001b[0;34m\u001b[0m\u001b[0m\n\u001b[0m",
            "\u001b[0;31mNameError\u001b[0m: name 'qa' is not defined"
          ]
        }
      ]
    },
    {
      "cell_type": "code",
      "source": [
        "print(result['result'])"
      ],
      "metadata": {
        "id": "smm1tL-RpB9i",
        "colab": {
          "base_uri": "https://localhost:8080/",
          "height": 141
        },
        "outputId": "776079a6-16f7-4e89-9647-b552ffe11311"
      },
      "execution_count": 20,
      "outputs": [
        {
          "output_type": "error",
          "ename": "NameError",
          "evalue": "name 'result' is not defined",
          "traceback": [
            "\u001b[0;31m---------------------------------------------------------------------------\u001b[0m",
            "\u001b[0;31mNameError\u001b[0m                                 Traceback (most recent call last)",
            "\u001b[0;32m/tmp/ipython-input-2587033393.py\u001b[0m in \u001b[0;36m<cell line: 0>\u001b[0;34m()\u001b[0m\n\u001b[0;32m----> 1\u001b[0;31m \u001b[0mprint\u001b[0m\u001b[0;34m(\u001b[0m\u001b[0mresult\u001b[0m\u001b[0;34m[\u001b[0m\u001b[0;34m'result'\u001b[0m\u001b[0;34m]\u001b[0m\u001b[0;34m)\u001b[0m\u001b[0;34m\u001b[0m\u001b[0;34m\u001b[0m\u001b[0m\n\u001b[0m",
            "\u001b[0;31mNameError\u001b[0m: name 'result' is not defined"
          ]
        }
      ]
    },
    {
      "cell_type": "code",
      "source": [
        "from langchain.agents import create_tool_calling_agent, AgentExecutor\n",
        "from langchain_core.prompts import ChatPromptTemplate, MessagesPlaceholder\n",
        "from langchain.tools import Tool"
      ],
      "metadata": {
        "id": "kfd1XgW44LSo"
      },
      "execution_count": 21,
      "outputs": []
    },
    {
      "cell_type": "code",
      "source": [
        "def calculate(expression: str) -> str:\n",
        "    \"\"\"คำนวณทางคณิตศาสตร์แบบปลอดภัยขึ้น (จำกัดฟังก์ชัน)\"\"\"\n",
        "    import math\n",
        "    allowed = {k: getattr(math, k) for k in dir(math) if not k.startswith(\"_\")}\n",
        "    allowed.update({\"abs\": abs, \"round\": round})\n",
        "    try:\n",
        "        return str(eval(expression, {\"__builtins__\": {}}, allowed))\n",
        "    except Exception:\n",
        "        return \"ไม่สามารถคำนวณได้\""
      ],
      "metadata": {
        "id": "hLwDSPiw4N_y"
      },
      "execution_count": 22,
      "outputs": []
    },
    {
      "cell_type": "code",
      "source": [
        "tools = [\n",
        "    Tool(\n",
        "        name=\"Calculator\",\n",
        "        func=calculate,\n",
        "        description=\"ใช้สำหรับคำนวณทางคณิตศาสตร์ เช่น +, -, *, /, และฟังก์ชันพื้นฐานของคณิตศาสตร์\"\n",
        "    )\n",
        "]"
      ],
      "metadata": {
        "id": "NF5AzZna4S0F"
      },
      "execution_count": 23,
      "outputs": []
    },
    {
      "cell_type": "code",
      "source": [
        "prompt = ChatPromptTemplate.from_messages([\n",
        "    (\"system\", \"ตอบเป็นภาษาไทยอย่างกระชับเมื่อสรุปผลลัพธ์\"),\n",
        "    (\"human\", \"{input}\"),\n",
        "    MessagesPlaceholder(\"agent_scratchpad\"),\n",
        "])"
      ],
      "metadata": {
        "id": "yPp9W6ZB4VgQ"
      },
      "execution_count": 24,
      "outputs": []
    },
    {
      "cell_type": "code",
      "metadata": {
        "id": "2e0ae38a",
        "colab": {
          "base_uri": "https://localhost:8080/"
        },
        "outputId": "b3dcf3c8-657c-4756-a2f9-178e76e809bb"
      },
      "source": [
        "agent = create_tool_calling_agent(llm2, tools, prompt)\n",
        "agent_executor = AgentExecutor(agent=agent, tools=tools, verbose=True)\n",
        "\n",
        "agent_result = agent_executor.invoke({\"input\": \"345 * 789 เท่ากับเท่าไหร่?\"})"
      ],
      "execution_count": 25,
      "outputs": [
        {
          "output_type": "stream",
          "name": "stdout",
          "text": [
            "\n",
            "\n",
            "\u001b[1m> Entering new AgentExecutor chain...\u001b[0m\n",
            "\u001b[32;1m\u001b[1;3m\n",
            "Invoking: `Calculator` with `345 * 789`\n",
            "\n",
            "\n",
            "\u001b[0m\u001b[36;1m\u001b[1;3m272205\u001b[0m\u001b[32;1m\u001b[1;3m345 * 789 เท่ากับ 272205\u001b[0m\n",
            "\n",
            "\u001b[1m> Finished chain.\u001b[0m\n"
          ]
        }
      ]
    },
    {
      "cell_type": "code",
      "source": [
        "output_string = agent_result['output']\n",
        "\n",
        "print(output_string)"
      ],
      "metadata": {
        "id": "bVENBOMFAQBe",
        "colab": {
          "base_uri": "https://localhost:8080/"
        },
        "outputId": "90f5f69f-e2a3-43e7-8711-e9138bb083fb"
      },
      "execution_count": 26,
      "outputs": [
        {
          "output_type": "stream",
          "name": "stdout",
          "text": [
            "345 * 789 เท่ากับ 272205\n"
          ]
        }
      ]
    },
    {
      "cell_type": "code",
      "source": [],
      "metadata": {
        "id": "_J7SswpUS5D3"
      },
      "execution_count": 26,
      "outputs": []
    },
    {
      "cell_type": "code",
      "source": [
        "import duckdb\n",
        "from langchain_community.utilities import SQLDatabase"
      ],
      "metadata": {
        "id": "3grqY3EUo4nG"
      },
      "execution_count": 27,
      "outputs": []
    },
    {
      "cell_type": "code",
      "source": [
        "import warnings\n",
        "from duckdb_engine import DuckDBEngineWarning\n",
        "\n",
        "warnings.filterwarnings(\"ignore\", category=DuckDBEngineWarning)"
      ],
      "metadata": {
        "id": "npxM2SslHZDf"
      },
      "execution_count": 28,
      "outputs": []
    },
    {
      "cell_type": "code",
      "source": [
        "db_path = '/content/drive/MyDrive/RAG/mcu_database.duckdb'\n",
        "\n",
        "db = SQLDatabase.from_uri(f\"duckdb:///{db_path}\")"
      ],
      "metadata": {
        "id": "9WpkAonaHnYy"
      },
      "execution_count": 43,
      "outputs": []
    },
    {
      "cell_type": "code",
      "source": [
        "from datetime import date\n",
        "from sqlalchemy import create_engine"
      ],
      "metadata": {
        "id": "vcjQpX3OTnhz"
      },
      "execution_count": 30,
      "outputs": []
    },
    {
      "cell_type": "code",
      "source": [
        "today = date(2025, 8, 11)\n",
        "\n",
        "\n",
        "engine = create_engine(f\"duckdb:///{db_path}\")\n",
        "\n",
        "with engine.begin() as conn:\n",
        "    conn.exec_driver_sql(\"\"\"\n",
        "        create or replace table customers (\n",
        "            customer_id integer,\n",
        "            customer_name varchar,\n",
        "            country varchar,\n",
        "            segment varchar,\n",
        "            created_at date,\n",
        "            is_active boolean\n",
        "        );\n",
        "    \"\"\")\n",
        "    conn.exec_driver_sql(\"\"\"\n",
        "        insert into customers values\n",
        "        (1,'Alice','Thailand','retail','2025-08-01', true),\n",
        "        (2,'Bob','Thailand','retail','2025-08-02', true),\n",
        "        (3,'Carol','Japan','enterprise','2025-08-03', true),\n",
        "        (4,'Dan','USA','retail','2025-08-04', true),\n",
        "        (5,'Eve','Thailand','smb','2025-08-05', true),\n",
        "        (6,'Frank','Japan','smb','2025-08-06', true),\n",
        "        (7,'Grace','Vietnam','retail','2025-08-07', true),\n",
        "        (8,'Heidi','Thailand','enterprise','2025-08-08', true),\n",
        "        (9,'Ivan','USA','retail','2025-08-09', true),\n",
        "        (10,'Judy','Thailand','retail','2025-08-10', true);\n",
        "    \"\"\")\n",
        "\n",
        "    conn.exec_driver_sql(\"\"\"\n",
        "        create or replace table orders (\n",
        "            order_id integer,\n",
        "            customer_id integer,\n",
        "            amount double,\n",
        "            status varchar,\n",
        "            order_date date\n",
        "        );\n",
        "    \"\"\")\n",
        "    conn.exec_driver_sql(\"\"\"\n",
        "        insert into orders values\n",
        "        (101,1,  900,'paid','2025-08-08'),\n",
        "        (102,2, 1100,'paid','2025-08-09'),\n",
        "        (103,3,  500,'paid','2025-08-09'),\n",
        "        (104,4,  700,'paid','2025-08-10'),\n",
        "        (105,5,  450,'cancelled','2025-08-10'),\n",
        "        (106,6, 1300,'paid','2025-08-10'),\n",
        "        (107,7,  650,'paid','2025-08-10'),\n",
        "        (108,8,  800,'paid','2025-08-11'),\n",
        "        (109,9,  950,'paid','2025-08-11'),\n",
        "        (110,10,1000,'paid','2025-08-11');\n",
        "    \"\"\")\n",
        "print(\"DuckDB ready.\")"
      ],
      "metadata": {
        "id": "y4AS3RovTT7D",
        "colab": {
          "base_uri": "https://localhost:8080/"
        },
        "outputId": "e3342834-cd92-49b9-c528-2cf2dd98ad97"
      },
      "execution_count": 44,
      "outputs": [
        {
          "output_type": "stream",
          "name": "stdout",
          "text": [
            "DuckDB ready.\n"
          ]
        }
      ]
    },
    {
      "cell_type": "code",
      "source": [
        "tables = db.get_usable_table_names()\n",
        "\n",
        "print(tables)"
      ],
      "metadata": {
        "id": "rabrEYzZTkB9",
        "colab": {
          "base_uri": "https://localhost:8080/"
        },
        "outputId": "36ad4192-f00f-4a08-d5fc-6faffd73b428"
      },
      "execution_count": 45,
      "outputs": [
        {
          "output_type": "stream",
          "name": "stdout",
          "text": [
            "['customers', 'orders']\n"
          ]
        }
      ]
    },
    {
      "cell_type": "code",
      "source": [
        "from langchain.chains import create_sql_query_chain"
      ],
      "metadata": {
        "id": "FJm0FAYlUlcu"
      },
      "execution_count": 46,
      "outputs": []
    },
    {
      "cell_type": "code",
      "source": [
        "sql_chain = create_sql_query_chain(llm, db)"
      ],
      "metadata": {
        "id": "RuNg7GDYUoVa"
      },
      "execution_count": 47,
      "outputs": []
    },
    {
      "cell_type": "code",
      "source": [
        "query = sql_chain.invoke({\n",
        "    \"question\": \"แสดงจำนวนลูกค้าทั้งหมด\"\n",
        "})"
      ],
      "metadata": {
        "id": "uJPGz3hLUp2d"
      },
      "execution_count": 48,
      "outputs": []
    },
    {
      "cell_type": "code",
      "source": [
        "query"
      ],
      "metadata": {
        "id": "7-CsFlNuUzDx",
        "colab": {
          "base_uri": "https://localhost:8080/",
          "height": 35
        },
        "outputId": "82f13b82-ad46-4667-877d-302768cbd4e3"
      },
      "execution_count": 49,
      "outputs": [
        {
          "output_type": "execute_result",
          "data": {
            "text/plain": [
              "'```sql\\nSELECT\\n  COUNT(\") AS total_customers\"\\nFROM customers;\\n```'"
            ],
            "application/vnd.google.colaboratory.intrinsic+json": {
              "type": "string"
            }
          },
          "metadata": {},
          "execution_count": 49
        }
      ]
    },
    {
      "cell_type": "code",
      "metadata": {
        "id": "7acd8979"
      },
      "source": [
        "from langchain_community.agent_toolkits import create_sql_agent\n",
        "from langchain.agents.agent_types import AgentType\n",
        "\n",
        "# สร้าง SQL Agent\n",
        "agent_executor = create_sql_agent(\n",
        "    llm,\n",
        "    db=db,\n",
        "    agent_type=AgentType.ZERO_SHOT_REACT_DESCRIPTION,\n",
        "    verbose=True\n",
        ")"
      ],
      "execution_count": 50,
      "outputs": []
    },
    {
      "cell_type": "code",
      "metadata": {
        "id": "0e6a7d39",
        "colab": {
          "base_uri": "https://localhost:8080/"
        },
        "outputId": "16401215-18a7-40bc-e11a-c755facc5c88"
      },
      "source": [
        "result = agent_executor.invoke({\"input\": \"แสดงจำนวนลูกค้าทั้งหมด\"})\n",
        "print(result)"
      ],
      "execution_count": 51,
      "outputs": [
        {
          "output_type": "stream",
          "name": "stdout",
          "text": [
            "\n",
            "\n",
            "\u001b[1m> Entering new SQL Agent Executor chain...\u001b[0m\n",
            "\u001b[32;1m\u001b[1;3mAction: sql_db_list_tables\n",
            "Action Input: \u001b[0m\u001b[38;5;200m\u001b[1;3mcustomers, orders\u001b[0m\u001b[32;1m\u001b[1;3mI have identified the 'customers' and 'orders' tables. I should now examine the schema of these tables to understand the relevant columns.\n",
            "Action: sql_db_schema\n",
            "Action Input: customers, orders\u001b[0m\u001b[33;1m\u001b[1;3m\n",
            "CREATE TABLE customers (\n",
            "\tcustomer_id INTEGER, \n",
            "\tcustomer_name VARCHAR, \n",
            "\tcountry VARCHAR, \n",
            "\tsegment VARCHAR, \n",
            "\tcreated_at DATE, \n",
            "\tis_active BOOLEAN\n",
            ")\n",
            "\n",
            "/*\n",
            "3 rows from customers table:\n",
            "customer_id\tcustomer_name\tcountry\tsegment\tcreated_at\tis_active\n",
            "1\tAlice\tThailand\tretail\t2025-08-01\tTrue\n",
            "2\tBob\tThailand\tretail\t2025-08-02\tTrue\n",
            "3\tCarol\tJapan\tenterprise\t2025-08-03\tTrue\n",
            "*/\n",
            "\n",
            "\n",
            "CREATE TABLE orders (\n",
            "\torder_id INTEGER, \n",
            "\tcustomer_id INTEGER, \n",
            "\tamount FLOAT, \n",
            "\tstatus VARCHAR, \n",
            "\torder_date DATE\n",
            ")\n",
            "\n",
            "/*\n",
            "3 rows from orders table:\n",
            "order_id\tcustomer_id\tamount\tstatus\torder_date\n",
            "101\t1\t900.0\tpaid\t2025-08-08\n",
            "102\t2\t1100.0\tpaid\t2025-08-09\n",
            "103\t3\t500.0\tpaid\t2025-08-09\n",
            "*/\u001b[0m\u001b[32;1m\u001b[1;3mI should count the number of customers. I can use the `customers` table to get the number of customers.\n",
            "Action: sql_db_query\n",
            "Action Input: SELECT count(*) FROM customers\u001b[0m\u001b[36;1m\u001b[1;3m[(10,)]\u001b[0m\u001b[32;1m\u001b[1;3mI now know the final answer\n",
            "Final Answer: There are 10 customers.\u001b[0m\n",
            "\n",
            "\u001b[1m> Finished chain.\u001b[0m\n",
            "{'input': 'แสดงจำนวนลูกค้าทั้งหมด', 'output': 'There are 10 customers.'}\n"
          ]
        }
      ]
    },
    {
      "cell_type": "code",
      "source": [
        "from langchain.agents import create_tool_calling_agent, AgentExecutor\n",
        "from langchain.tools import Tool\n",
        "\n",
        "sql_agent_tool = Tool(\n",
        "    name=\"SQL_Database\",\n",
        "    func=agent_executor.invoke,\n",
        "    description=\"Useful for answering questions about the customers database.\"\n",
        ")\n",
        "\n",
        "tools_with_sql = [\n",
        "    Tool(\n",
        "        name=\"Calculator\",\n",
        "        func=calculate,\n",
        "        description=\"ใช้สำหรับคำนวณทางคณิตศาสตร์ เช่น +, -, *, /, และฟังก์ชันพื้นฐานของคณิตศาสตร์\"\n",
        "    ),\n",
        "    sql_agent_tool # เพิ่ม SQL Agent tool เข้าไป\n",
        "]\n",
        "\n",
        "# สร้าง Agent ใหม่ที่ใช้ Tools list นี้\n",
        "new_agent = create_tool_calling_agent(llm2, tools_with_sql, prompt)\n",
        "new_agent_executor = AgentExecutor(agent=new_agent, tools=tools_with_sql, verbose=True)"
      ],
      "metadata": {
        "id": "z1qphp8nXdLl"
      },
      "execution_count": 52,
      "outputs": []
    },
    {
      "cell_type": "code",
      "source": [
        "from langchain_core.runnables.history import RunnableWithMessageHistory\n",
        "from langchain_community.chat_message_histories import ChatMessageHistory\n",
        "\n",
        "# สร้าง Message History\n",
        "# เราสามารถใช้ dict เพื่อเก็บ history ของแต่ละ session ได้\n",
        "store = {}\n",
        "\n",
        "def get_session_history(session_id: str) -> ChatMessageHistory:\n",
        "    if session_id not in store:\n",
        "        store[session_id] = ChatMessageHistory()\n",
        "    return store[session_id]\n",
        "\n",
        "with_message_history = RunnableWithMessageHistory(\n",
        "    new_agent_executor,\n",
        "    get_session_history,\n",
        "    input_messages_key=\"input\",\n",
        "    history_messages_key=\"chat_history\", # กำหนด key สำหรับ chat history\n",
        ")\n",
        "\n",
        "# ลองเรียกใช้งานด้วย session_id\n",
        "session_id = \"my-session\""
      ],
      "metadata": {
        "id": "PFMe6hreZ23_"
      },
      "execution_count": 53,
      "outputs": []
    },
    {
      "cell_type": "code",
      "source": [
        "# คำถามแรก\n",
        "result1 = with_message_history.invoke(\n",
        "    {\"input\": \"มีลูกค้าทั้งหมดกี่คนในฐานข้อมูล?\"},\n",
        "    config={\"configurable\": {\"session_id\": session_id}}\n",
        ")\n",
        "result1"
      ],
      "metadata": {
        "id": "g29yLwF7q9kb",
        "colab": {
          "base_uri": "https://localhost:8080/"
        },
        "outputId": "7328d075-9d34-4902-9685-21b2a4058c16"
      },
      "execution_count": 54,
      "outputs": [
        {
          "output_type": "stream",
          "name": "stdout",
          "text": [
            "\n",
            "\n",
            "\u001b[1m> Entering new AgentExecutor chain...\u001b[0m\n",
            "\u001b[32;1m\u001b[1;3m\n",
            "Invoking: `SQL_Database` with `SELECT COUNT(*) FROM customers;`\n",
            "\n",
            "\n",
            "\u001b[0m\n",
            "\n",
            "\u001b[1m> Entering new SQL Agent Executor chain...\u001b[0m\n",
            "\u001b[32;1m\u001b[1;3mAction: sql_db_list_tables\n",
            "Action Input: \u001b[0m\u001b[38;5;200m\u001b[1;3mcustomers, orders\u001b[0m\u001b[32;1m\u001b[1;3mI should query the schema of the customers table to understand the available columns.\n",
            "Action: sql_db_schema\n",
            "Action Input: customers\u001b[0m\u001b[33;1m\u001b[1;3m\n",
            "CREATE TABLE customers (\n",
            "\tcustomer_id INTEGER, \n",
            "\tcustomer_name VARCHAR, \n",
            "\tcountry VARCHAR, \n",
            "\tsegment VARCHAR, \n",
            "\tcreated_at DATE, \n",
            "\tis_active BOOLEAN\n",
            ")\n",
            "\n",
            "/*\n",
            "3 rows from customers table:\n",
            "customer_id\tcustomer_name\tcountry\tsegment\tcreated_at\tis_active\n",
            "1\tAlice\tThailand\tretail\t2025-08-01\tTrue\n",
            "2\tBob\tThailand\tretail\t2025-08-02\tTrue\n",
            "3\tCarol\tJapan\tenterprise\t2025-08-03\tTrue\n",
            "*/\u001b[0m\u001b[32;1m\u001b[1;3mI should query the number of customers in the database.\n",
            "Action: sql_db_query\n",
            "Action Input: SELECT COUNT(*) FROM customers;\u001b[0m\u001b[36;1m\u001b[1;3m[(10,)]\u001b[0m\u001b[32;1m\u001b[1;3mI now know the final answer\n",
            "Final Answer: There are 10 customers in the database.\u001b[0m\n",
            "\n",
            "\u001b[1m> Finished chain.\u001b[0m\n",
            "\u001b[33;1m\u001b[1;3m{'input': 'SELECT COUNT(*) FROM customers;', 'output': 'There are 10 customers in the database.'}\u001b[0m\u001b[32;1m\u001b[1;3mมีลูกค้าทั้งหมด 10 คนในฐานข้อมูล\u001b[0m\n",
            "\n",
            "\u001b[1m> Finished chain.\u001b[0m\n"
          ]
        },
        {
          "output_type": "execute_result",
          "data": {
            "text/plain": [
              "{'input': 'มีลูกค้าทั้งหมดกี่คนในฐานข้อมูล?',\n",
              " 'chat_history': [],\n",
              " 'output': 'มีลูกค้าทั้งหมด 10 คนในฐานข้อมูล'}"
            ]
          },
          "metadata": {},
          "execution_count": 54
        }
      ]
    },
    {
      "cell_type": "code",
      "source": [
        "# คำถามที่สอง (อ้างอิงถึงคำถามแรก)\n",
        "result2 = with_message_history.invoke(\n",
        "    {\"input\": \"พวกเขาอยู่ในประเทศอะไรบ้าง?\"},\n",
        "    config={\"configurable\": {\"session_id\": session_id}}\n",
        ")\n",
        "result2"
      ],
      "metadata": {
        "id": "aNbbHHeyrAXd",
        "colab": {
          "base_uri": "https://localhost:8080/"
        },
        "outputId": "f8709b27-93e6-47a1-9603-f65b349ac969"
      },
      "execution_count": 55,
      "outputs": [
        {
          "output_type": "stream",
          "name": "stdout",
          "text": [
            "\n",
            "\n",
            "\u001b[1m> Entering new AgentExecutor chain...\u001b[0m\n",
            "\u001b[32;1m\u001b[1;3m\n",
            "Invoking: `SQL_Database` with `SELECT DISTINCT country FROM customers;`\n",
            "\n",
            "\n",
            "\u001b[0m\n",
            "\n",
            "\u001b[1m> Entering new SQL Agent Executor chain...\u001b[0m\n",
            "\u001b[32;1m\u001b[1;3mAction: sql_db_list_tables\n",
            "Action Input: \u001b[0m\u001b[38;5;200m\u001b[1;3mcustomers, orders\u001b[0m\u001b[32;1m\u001b[1;3mI should query the schema of the customers table to understand the available columns.\n",
            "Action: sql_db_schema\n",
            "Action Input: customers\u001b[0m\u001b[33;1m\u001b[1;3m\n",
            "CREATE TABLE customers (\n",
            "\tcustomer_id INTEGER, \n",
            "\tcustomer_name VARCHAR, \n",
            "\tcountry VARCHAR, \n",
            "\tsegment VARCHAR, \n",
            "\tcreated_at DATE, \n",
            "\tis_active BOOLEAN\n",
            ")\n",
            "\n",
            "/*\n",
            "3 rows from customers table:\n",
            "customer_id\tcustomer_name\tcountry\tsegment\tcreated_at\tis_active\n",
            "1\tAlice\tThailand\tretail\t2025-08-01\tTrue\n",
            "2\tBob\tThailand\tretail\t2025-08-02\tTrue\n",
            "3\tCarol\tJapan\tenterprise\t2025-08-03\tTrue\n",
            "*/\u001b[0m\u001b[32;1m\u001b[1;3mI know the country column exists in the `customers` table. I can directly query for the distinct countries.\n",
            "Action: sql_db_query\n",
            "Action Input: SELECT DISTINCT country FROM customers;\u001b[0m\u001b[36;1m\u001b[1;3m[('Thailand',), ('Japan',), ('USA',), ('Vietnam',)]\u001b[0m\u001b[32;1m\u001b[1;3mI now know the final answer\n",
            "Final Answer: The distinct countries in the `customers` table are Thailand, Japan, USA, and Vietnam.\u001b[0m\n",
            "\n",
            "\u001b[1m> Finished chain.\u001b[0m\n",
            "\u001b[33;1m\u001b[1;3m{'input': 'SELECT DISTINCT country FROM customers;', 'output': 'The distinct countries in the `customers` table are Thailand, Japan, USA, and Vietnam.'}\u001b[0m\u001b[32;1m\u001b[1;3mพวกเขาอยู่ในประเทศไทย, ญี่ปุ่น, สหรัฐอเมริกา และเวียดนาม\u001b[0m\n",
            "\n",
            "\u001b[1m> Finished chain.\u001b[0m\n"
          ]
        },
        {
          "output_type": "execute_result",
          "data": {
            "text/plain": [
              "{'input': 'พวกเขาอยู่ในประเทศอะไรบ้าง?',\n",
              " 'chat_history': [HumanMessage(content='มีลูกค้าทั้งหมดกี่คนในฐานข้อมูล?', additional_kwargs={}, response_metadata={}),\n",
              "  AIMessage(content='มีลูกค้าทั้งหมด 10 คนในฐานข้อมูล', additional_kwargs={}, response_metadata={})],\n",
              " 'output': 'พวกเขาอยู่ในประเทศไทย, ญี่ปุ่น, สหรัฐอเมริกา และเวียดนาม'}"
            ]
          },
          "metadata": {},
          "execution_count": 55
        }
      ]
    },
    {
      "cell_type": "code",
      "source": [
        "# create_tool_calling_agent, AgentExecutor,\n",
        "from langchain.agents import load_tools\n",
        "# from langchain.tools import Tool\n",
        "from langchain_core.prompts import ChatPromptTemplate, MessagesPlaceholder\n",
        "from langchain_core.runnables.history import RunnableWithMessageHistory\n",
        "from langchain_community.chat_message_histories import ChatMessageHistory"
      ],
      "metadata": {
        "id": "8FO1YludrVtD"
      },
      "execution_count": 56,
      "outputs": []
    },
    {
      "cell_type": "code",
      "metadata": {
        "id": "a52bc9a5"
      },
      "source": [
        "def calculate(expression: str) -> str:\n",
        "    \"\"\"คำนวณทางคณิตศาสตร์แบบปลอดภัยขึ้น (จำกัดฟังก์ชัน)\"\"\"\n",
        "    import math\n",
        "    allowed = {k: getattr(math, k) for k in dir(math) if not k.startswith(\"_\")}\n",
        "    allowed.update({\"abs\": abs, \"round\": round})\n",
        "    try:\n",
        "        return str(eval(expression, {\"__builtins__\": {}}, allowed))\n",
        "    except Exception:\n",
        "        return \"ไม่สามารถคำนวณได้\"\n",
        "\n",
        "calculator_tool = Tool(\n",
        "    name=\"Calculator\",\n",
        "    func=calculate,\n",
        "    description=\"ใช้สำหรับคำนวณทางคณิตศาสตร์ เช่น +, -, *, /, และฟังก์ชันพื้นฐานของคณิตศาสตร์\"\n",
        ")\n",
        "\n",
        "sql_agent_executor = create_sql_agent(\n",
        "    llm,\n",
        "    db=db,\n",
        "    agent_type=AgentType.ZERO_SHOT_REACT_DESCRIPTION,\n",
        "    verbose=True,\n",
        "    handle_parsing_errors=True\n",
        ")\n",
        "\n",
        "sql_agent_tool = Tool(\n",
        "    name=\"SQL_Database\",\n",
        "    func=sql_agent_executor.invoke,\n",
        "    description=\"Useful for answering questions about the customers database.\"\n",
        ")\n",
        "\n",
        "# โหลด Wikipedia Tool โดยใช้ load_tools\n",
        "wikipedia_tools = load_tools([\"wikipedia\"], llm=llm)\n",
        "\n",
        "# สร้าง Tools list ที่มี Tool ทั้งหมดที่ต้องการให้ Agent ใช้\n",
        "all_tools = [\n",
        "    calculator_tool,\n",
        "    sql_agent_tool,\n",
        "]\n",
        "all_tools.extend(wikipedia_tools)"
      ],
      "execution_count": 57,
      "outputs": []
    },
    {
      "cell_type": "code",
      "source": [
        "prompt = ChatPromptTemplate.from_messages([\n",
        "    (\"system\", \"คุณเป็นผู้ช่วยที่สามารถใช้เครื่องมือในการคำนวณ, ตอบคำถามเกี่ยวกับฐานข้อมูลลูกค้า และค้นหาข้อมูลจาก Wikipedia ได้ กรุณาตอบเป็นภาษาไทยอย่างกระชับเมื่อสรุปผลลัพธ์ และใช้ประวัติการสนทนาเพื่อทำความเข้าใจคำถามและบริบท\"),\n",
        "    MessagesPlaceholder(variable_name=\"chat_history\"),\n",
        "    (\"human\", \"{input}\"),\n",
        "    MessagesPlaceholder(variable_name=\"agent_scratchpad\"),\n",
        "])"
      ],
      "metadata": {
        "id": "jHElPRgSrrS4"
      },
      "execution_count": 58,
      "outputs": []
    },
    {
      "cell_type": "code",
      "source": [
        "# สร้าง Agent ตัวหลักที่ใช้ Tools list และ Prompt ที่ปรับปรุงแล้ว\n",
        "main_agent = create_tool_calling_agent(llm2, all_tools, prompt)"
      ],
      "metadata": {
        "id": "slhAAEgrsGW0"
      },
      "execution_count": 59,
      "outputs": []
    },
    {
      "cell_type": "code",
      "source": [
        "# สร้าง Agent Executor สำหรับ Agent ตัวหลัก\n",
        "main_agent_executor = AgentExecutor(agent=main_agent, tools=all_tools, verbose=True, handle_parsing_errors=True) # อาจจะเพิ่ม handle_parsing_errors=True ที่นี่ด้วยหากจำเป็น"
      ],
      "metadata": {
        "id": "BKeLkQ1Ksp4Z"
      },
      "execution_count": 60,
      "outputs": []
    },
    {
      "cell_type": "code",
      "source": [
        "store = {}\n",
        "\n",
        "def get_session_history(session_id: str) -> ChatMessageHistory:\n",
        "    if session_id not in store:\n",
        "        store[session_id] = ChatMessageHistory()\n",
        "    return store[session_id]\n",
        "\n",
        "# สร้าง RunnableWithMessageHistory โดยใช้ main_agent_executor\n",
        "conversational_agent_with_history = RunnableWithMessageHistory(\n",
        "    main_agent_executor,\n",
        "    get_session_history,\n",
        "    input_messages_key=\"input\",\n",
        "    history_messages_key=\"chat_history\",\n",
        "    handle_parsing_errors=True,\n",
        ")"
      ],
      "metadata": {
        "id": "odcpJDLxstLP"
      },
      "execution_count": 61,
      "outputs": []
    },
    {
      "cell_type": "code",
      "source": [
        "session_id = \"new-session\""
      ],
      "metadata": {
        "id": "y1LmvNFVs-Nv"
      },
      "execution_count": 62,
      "outputs": []
    },
    {
      "cell_type": "code",
      "metadata": {
        "id": "1bed375d",
        "colab": {
          "base_uri": "https://localhost:8080/"
        },
        "outputId": "65967f0f-83f0-45b4-cc6d-f8943f7612c6"
      },
      "source": [
        "# คำถามแรก\n",
        "result1 = conversational_agent_with_history.invoke(\n",
        "    {\"input\": \"มีลูกค้าทั้งหมดกี่คนในฐานข้อมูล?\"},\n",
        "    config={\"configurable\": {\"session_id\": session_id}}\n",
        ")\n",
        "print(\"คำตอบแรก:\", result1)"
      ],
      "execution_count": 63,
      "outputs": [
        {
          "output_type": "stream",
          "name": "stdout",
          "text": [
            "\n",
            "\n",
            "\u001b[1m> Entering new AgentExecutor chain...\u001b[0m\n",
            "\u001b[32;1m\u001b[1;3m\n",
            "Invoking: `SQL_Database` with `SELECT COUNT(*) FROM customers;`\n",
            "\n",
            "\n",
            "\u001b[0m\n",
            "\n",
            "\u001b[1m> Entering new SQL Agent Executor chain...\u001b[0m\n",
            "\u001b[32;1m\u001b[1;3mAction: sql_db_list_tables\n",
            "Action Input: \u001b[0m\u001b[38;5;200m\u001b[1;3mcustomers, orders\u001b[0m\u001b[32;1m\u001b[1;3mI know the tables in the database are 'customers' and 'orders'. I should query the schema of the 'customers' table to understand its columns.\n",
            "Action: sql_db_schema\n",
            "Action Input: customers\u001b[0m\u001b[33;1m\u001b[1;3m\n",
            "CREATE TABLE customers (\n",
            "\tcustomer_id INTEGER, \n",
            "\tcustomer_name VARCHAR, \n",
            "\tcountry VARCHAR, \n",
            "\tsegment VARCHAR, \n",
            "\tcreated_at DATE, \n",
            "\tis_active BOOLEAN\n",
            ")\n",
            "\n",
            "/*\n",
            "3 rows from customers table:\n",
            "customer_id\tcustomer_name\tcountry\tsegment\tcreated_at\tis_active\n",
            "1\tAlice\tThailand\tretail\t2025-08-01\tTrue\n",
            "2\tBob\tThailand\tretail\t2025-08-02\tTrue\n",
            "3\tCarol\tJapan\tenterprise\t2025-08-03\tTrue\n",
            "*/\u001b[0m\u001b[32;1m\u001b[1;3mI know the schema of the 'customers' table. I should now query the table to get the count of customers.\n",
            "Action: sql_db_query\n",
            "Action Input: SELECT COUNT(*) FROM customers;\u001b[0m\u001b[36;1m\u001b[1;3m[(10,)]\u001b[0m\u001b[32;1m\u001b[1;3mI now know the final answer\n",
            "Final Answer: The number of customers is 10.\u001b[0m\n",
            "\n",
            "\u001b[1m> Finished chain.\u001b[0m\n",
            "\u001b[33;1m\u001b[1;3m{'input': 'SELECT COUNT(*) FROM customers;', 'output': 'The number of customers is 10.'}\u001b[0m\u001b[32;1m\u001b[1;3mมีลูกค้าทั้งหมด 10 คนในฐานข้อมูล\u001b[0m\n",
            "\n",
            "\u001b[1m> Finished chain.\u001b[0m\n",
            "คำตอบแรก: {'input': 'มีลูกค้าทั้งหมดกี่คนในฐานข้อมูล?', 'chat_history': [], 'output': 'มีลูกค้าทั้งหมด 10 คนในฐานข้อมูล'}\n"
          ]
        }
      ]
    },
    {
      "cell_type": "code",
      "source": [
        "# คำถามที่สอง (อ้างอิงถึงคำถามแรก)\n",
        "result2 = conversational_agent_with_history.invoke(\n",
        "    {\"input\": \"พวกเขาอยู่ในประเทศอะไรบ้าง?\"},\n",
        "    config={\"configurable\": {\"session_id\": session_id}}\n",
        ")\n",
        "print(\"คำตอบที่สอง:\", result2)"
      ],
      "metadata": {
        "id": "Z2QyLiCstBB5",
        "colab": {
          "base_uri": "https://localhost:8080/"
        },
        "outputId": "c12d0d3b-9304-4440-921c-b78061b38a16"
      },
      "execution_count": 64,
      "outputs": [
        {
          "output_type": "stream",
          "name": "stdout",
          "text": [
            "\n",
            "\n",
            "\u001b[1m> Entering new AgentExecutor chain...\u001b[0m\n",
            "\u001b[32;1m\u001b[1;3mลูกค้าทั้งหมดอยู่ในประเทศสหรัฐอเมริกา, สหราชอาณาจักร, และแคนาดา\u001b[0m\n",
            "\n",
            "\u001b[1m> Finished chain.\u001b[0m\n",
            "คำตอบที่สอง: {'input': 'พวกเขาอยู่ในประเทศอะไรบ้าง?', 'chat_history': [HumanMessage(content='มีลูกค้าทั้งหมดกี่คนในฐานข้อมูล?', additional_kwargs={}, response_metadata={}), AIMessage(content='มีลูกค้าทั้งหมด 10 คนในฐานข้อมูล', additional_kwargs={}, response_metadata={})], 'output': 'ลูกค้าทั้งหมดอยู่ในประเทศสหรัฐอเมริกา, สหราชอาณาจักร, และแคนาดา'}\n"
          ]
        }
      ]
    },
    {
      "cell_type": "code",
      "source": [
        "# ลองคำถามที่ต้องใช้ Calculator Tool ด้วย\n",
        "result3 = conversational_agent_with_history.invoke(\n",
        "    {\"input\": \"ผลรวมของ 123 กับ 456 คือเท่าไหร่?\"},\n",
        "    config={\"configurable\": {\"session_id\": session_id}}\n",
        ")\n",
        "print(\"คำตอบที่สาม:\", result3)"
      ],
      "metadata": {
        "id": "9v24JUcItFNH",
        "colab": {
          "base_uri": "https://localhost:8080/"
        },
        "outputId": "97e5349a-1bbc-4dae-efe1-dfaa47448a7c"
      },
      "execution_count": 65,
      "outputs": [
        {
          "output_type": "stream",
          "name": "stdout",
          "text": [
            "\n",
            "\n",
            "\u001b[1m> Entering new AgentExecutor chain...\u001b[0m\n",
            "\u001b[32;1m\u001b[1;3m\n",
            "Invoking: `Calculator` with `123 + 456`\n",
            "\n",
            "\n",
            "\u001b[0m\u001b[36;1m\u001b[1;3m579\u001b[0m\u001b[32;1m\u001b[1;3mผลรวมของ 123 กับ 456 คือ 579\u001b[0m\n",
            "\n",
            "\u001b[1m> Finished chain.\u001b[0m\n",
            "คำตอบที่สาม: {'input': 'ผลรวมของ 123 กับ 456 คือเท่าไหร่?', 'chat_history': [HumanMessage(content='มีลูกค้าทั้งหมดกี่คนในฐานข้อมูล?', additional_kwargs={}, response_metadata={}), AIMessage(content='มีลูกค้าทั้งหมด 10 คนในฐานข้อมูล', additional_kwargs={}, response_metadata={}), HumanMessage(content='พวกเขาอยู่ในประเทศอะไรบ้าง?', additional_kwargs={}, response_metadata={}), AIMessage(content='ลูกค้าทั้งหมดอยู่ในประเทศสหรัฐอเมริกา, สหราชอาณาจักร, และแคนาดา', additional_kwargs={}, response_metadata={})], 'output': 'ผลรวมของ 123 กับ 456 คือ 579'}\n"
          ]
        }
      ]
    },
    {
      "cell_type": "code",
      "metadata": {
        "id": "cba700c6"
      },
      "source": [
        "# ทดสอบ Agent ที่มี Memory และ Tools (Calculator, SQL, Wikipedia)\n",
        "\n",
        "session_id = \"multi-tool-session\" # ใช้ session_id ใหม่สำหรับการทดสอบนี้"
      ],
      "execution_count": 66,
      "outputs": []
    },
    {
      "cell_type": "code",
      "source": [
        "# คำถามที่ต้องใช้ SQL Tool\n",
        "result_sql = conversational_agent_with_history.invoke(\n",
        "    {\"input\": \"มีลูกค้าทั้งหมดกี่คนในฐานข้อมูล?\"},\n",
        "    config={\"configurable\": {\"session_id\": session_id}}\n",
        ")\n",
        "print(\"คำตอบ (SQL):\", result_sql)"
      ],
      "metadata": {
        "id": "zILVBGNFtd8m",
        "colab": {
          "base_uri": "https://localhost:8080/"
        },
        "outputId": "a6f58ad6-36fe-4bc0-a7f4-3ab77db44189"
      },
      "execution_count": 67,
      "outputs": [
        {
          "output_type": "stream",
          "name": "stdout",
          "text": [
            "\n",
            "\n",
            "\u001b[1m> Entering new AgentExecutor chain...\u001b[0m\n",
            "\u001b[32;1m\u001b[1;3m\n",
            "Invoking: `SQL_Database` with `SELECT COUNT(*) FROM customers`\n",
            "\n",
            "\n",
            "\u001b[0m\n",
            "\n",
            "\u001b[1m> Entering new SQL Agent Executor chain...\u001b[0m\n",
            "\u001b[32;1m\u001b[1;3mAction: sql_db_list_tables\n",
            "Action Input: \u001b[0m\u001b[38;5;200m\u001b[1;3mcustomers, orders\u001b[0m\u001b[32;1m\u001b[1;3mI know the tables in the database are 'customers' and 'orders'. I should look at the schema of the 'customers' table to see what columns are available.\n",
            "Action: sql_db_schema\n",
            "Action Input: customers\u001b[0m\u001b[33;1m\u001b[1;3m\n",
            "CREATE TABLE customers (\n",
            "\tcustomer_id INTEGER, \n",
            "\tcustomer_name VARCHAR, \n",
            "\tcountry VARCHAR, \n",
            "\tsegment VARCHAR, \n",
            "\tcreated_at DATE, \n",
            "\tis_active BOOLEAN\n",
            ")\n",
            "\n",
            "/*\n",
            "3 rows from customers table:\n",
            "customer_id\tcustomer_name\tcountry\tsegment\tcreated_at\tis_active\n",
            "1\tAlice\tThailand\tretail\t2025-08-01\tTrue\n",
            "2\tBob\tThailand\tretail\t2025-08-02\tTrue\n",
            "3\tCarol\tJapan\tenterprise\t2025-08-03\tTrue\n",
            "*/\u001b[0m\u001b[32;1m\u001b[1;3mI know the schema of the 'customers' table. It has columns like `customer_id`, `customer_name`, `country`, `segment`, `created_at`, and `is_active`. I can use this information to answer the question. The question asks for the count of customers. I can use the `sql_db_query` tool to get the count.\n",
            "Action: sql_db_query\n",
            "Action Input: SELECT COUNT(*) FROM customers\u001b[0m\u001b[36;1m\u001b[1;3m[(10,)]\u001b[0m\u001b[32;1m\u001b[1;3mI know the count of customers is 10.\n",
            "Final Answer: The number of customers is 10.\u001b[0m\n",
            "\n",
            "\u001b[1m> Finished chain.\u001b[0m\n",
            "\u001b[33;1m\u001b[1;3m{'input': 'SELECT COUNT(*) FROM customers', 'output': 'The number of customers is 10.'}\u001b[0m\u001b[32;1m\u001b[1;3mมีลูกค้าทั้งหมด 10 คนในฐานข้อมูล\u001b[0m\n",
            "\n",
            "\u001b[1m> Finished chain.\u001b[0m\n",
            "คำตอบ (SQL): {'input': 'มีลูกค้าทั้งหมดกี่คนในฐานข้อมูล?', 'chat_history': [], 'output': 'มีลูกค้าทั้งหมด 10 คนในฐานข้อมูล'}\n"
          ]
        }
      ]
    },
    {
      "cell_type": "code",
      "source": [
        "# คำถามที่ต้องใช้ Calculator Tool\n",
        "result_calc = conversational_agent_with_history.invoke(\n",
        "    {\"input\": \"ผลคูณของ 99 กับ 101 คือเท่าไหร่?\"},\n",
        "    config={\"configurable\": {\"session_id\": session_id}}\n",
        ")\n",
        "print(\"คำตอบ (Calculator):\", result_calc)"
      ],
      "metadata": {
        "id": "22-t-jONtjsM",
        "colab": {
          "base_uri": "https://localhost:8080/"
        },
        "outputId": "62977d78-085a-4eff-d9ab-3016aa127ef4"
      },
      "execution_count": 68,
      "outputs": [
        {
          "output_type": "stream",
          "name": "stdout",
          "text": [
            "\n",
            "\n",
            "\u001b[1m> Entering new AgentExecutor chain...\u001b[0m\n",
            "\u001b[32;1m\u001b[1;3m\n",
            "Invoking: `Calculator` with `99 * 101`\n",
            "\n",
            "\n",
            "\u001b[0m\u001b[36;1m\u001b[1;3m9999\u001b[0m\u001b[32;1m\u001b[1;3mผลคูณของ 99 กับ 101 คือ 9999\u001b[0m\n",
            "\n",
            "\u001b[1m> Finished chain.\u001b[0m\n",
            "คำตอบ (Calculator): {'input': 'ผลคูณของ 99 กับ 101 คือเท่าไหร่?', 'chat_history': [HumanMessage(content='มีลูกค้าทั้งหมดกี่คนในฐานข้อมูล?', additional_kwargs={}, response_metadata={}), AIMessage(content='มีลูกค้าทั้งหมด 10 คนในฐานข้อมูล', additional_kwargs={}, response_metadata={})], 'output': 'ผลคูณของ 99 กับ 101 คือ 9999'}\n"
          ]
        }
      ]
    },
    {
      "cell_type": "code",
      "source": [
        "# คำถามที่ต้องใช้ Wikipedia Tool\n",
        "result_wiki = conversational_agent_with_history.invoke(\n",
        "    {\"input\": \"ประเทศไทยมีเมืองหลวงชื่ออะไร\"},\n",
        "    config={\"configurable\": {\"session_id\": session_id}}\n",
        ")\n",
        "print(\"คำตอบ (Wikipedia):\", result_wiki)"
      ],
      "metadata": {
        "id": "-wVZ0PrXtmpA",
        "colab": {
          "base_uri": "https://localhost:8080/"
        },
        "outputId": "f94edc3a-e592-4e4a-97f6-c7f45bf90d7a"
      },
      "execution_count": 69,
      "outputs": [
        {
          "output_type": "stream",
          "name": "stdout",
          "text": [
            "\n",
            "\n",
            "\u001b[1m> Entering new AgentExecutor chain...\u001b[0m\n",
            "\u001b[32;1m\u001b[1;3mประเทศไทยมีเมืองหลวงชื่อกรุงเทพมหานคร\u001b[0m\n",
            "\n",
            "\u001b[1m> Finished chain.\u001b[0m\n",
            "คำตอบ (Wikipedia): {'input': 'ประเทศไทยมีเมืองหลวงชื่ออะไร', 'chat_history': [HumanMessage(content='มีลูกค้าทั้งหมดกี่คนในฐานข้อมูล?', additional_kwargs={}, response_metadata={}), AIMessage(content='มีลูกค้าทั้งหมด 10 คนในฐานข้อมูล', additional_kwargs={}, response_metadata={}), HumanMessage(content='ผลคูณของ 99 กับ 101 คือเท่าไหร่?', additional_kwargs={}, response_metadata={}), AIMessage(content='ผลคูณของ 99 กับ 101 คือ 9999', additional_kwargs={}, response_metadata={})], 'output': 'ประเทศไทยมีเมืองหลวงชื่อกรุงเทพมหานคร'}\n"
          ]
        }
      ]
    },
    {
      "cell_type": "code",
      "source": [
        "# ลองถามคำถามต่อเนื่องที่ต้องใช้ Memory และ Tool\n",
        "result_context = conversational_agent_with_history.invoke(\n",
        "    {\"input\": \"ประชากรของเมืองหลวงนั้นมีประมาณเท่าไหร่\"},\n",
        "    config={\"configurable\": {\"session_id\": session_id}}\n",
        ")\n",
        "print(\"คำตอบ (Context + Wikipedia):\", result_context)"
      ],
      "metadata": {
        "id": "W3GyRxLBtqfT",
        "colab": {
          "base_uri": "https://localhost:8080/"
        },
        "outputId": "cc68d958-b316-4129-994b-066c8ca7363d"
      },
      "execution_count": 70,
      "outputs": [
        {
          "output_type": "stream",
          "name": "stdout",
          "text": [
            "\n",
            "\n",
            "\u001b[1m> Entering new AgentExecutor chain...\u001b[0m\n",
            "\u001b[32;1m\u001b[1;3mประชากรของกรุงเทพมหานครประมาณ 10.6 ล้านคน (ข้อมูล ณ ปี 2566)\u001b[0m\n",
            "\n",
            "\u001b[1m> Finished chain.\u001b[0m\n",
            "คำตอบ (Context + Wikipedia): {'input': 'ประชากรของเมืองหลวงนั้นมีประมาณเท่าไหร่', 'chat_history': [HumanMessage(content='มีลูกค้าทั้งหมดกี่คนในฐานข้อมูล?', additional_kwargs={}, response_metadata={}), AIMessage(content='มีลูกค้าทั้งหมด 10 คนในฐานข้อมูล', additional_kwargs={}, response_metadata={}), HumanMessage(content='ผลคูณของ 99 กับ 101 คือเท่าไหร่?', additional_kwargs={}, response_metadata={}), AIMessage(content='ผลคูณของ 99 กับ 101 คือ 9999', additional_kwargs={}, response_metadata={}), HumanMessage(content='ประเทศไทยมีเมืองหลวงชื่ออะไร', additional_kwargs={}, response_metadata={}), AIMessage(content='ประเทศไทยมีเมืองหลวงชื่อกรุงเทพมหานคร', additional_kwargs={}, response_metadata={})], 'output': 'ประชากรของกรุงเทพมหานครประมาณ 10.6 ล้านคน (ข้อมูล ณ ปี 2566)'}\n"
          ]
        }
      ]
    },
    {
      "cell_type": "code",
      "source": [
        "path = '/content/drive/MyDrive/RAG/MCU'\n",
        "\n",
        "with engine.begin() as conn:\n",
        "    conn.exec_driver_sql(f\"CREATE OR REPLACE TABLE movies AS SELECT * FROM '{path}/movies.csv'\")"
      ],
      "metadata": {
        "id": "WrRa1wv5uVmG"
      },
      "execution_count": 71,
      "outputs": []
    },
    {
      "cell_type": "code",
      "source": [
        "with engine.begin() as conn:\n",
        "    conn.exec_driver_sql(f\"CREATE OR REPLACE TABLE characters AS SELECT * FROM '{path}/characters.csv'\")"
      ],
      "metadata": {
        "id": "apTwvqDtw8Be"
      },
      "execution_count": 72,
      "outputs": []
    },
    {
      "cell_type": "code",
      "source": [
        "with engine.begin() as conn:\n",
        "    conn.exec_driver_sql(f\"CREATE OR REPLACE TABLE mcu AS SELECT * FROM '{path}/mcu.csv'\")"
      ],
      "metadata": {
        "id": "TFXXBk6qxDSI"
      },
      "execution_count": 73,
      "outputs": []
    },
    {
      "cell_type": "code",
      "source": [
        "tables = db.get_usable_table_names()\n",
        "tables"
      ],
      "metadata": {
        "id": "vZlg_rLoxLjc",
        "colab": {
          "base_uri": "https://localhost:8080/"
        },
        "outputId": "0477c5e1-f0af-43fa-af4a-39b34740bbcd"
      },
      "execution_count": 74,
      "outputs": [
        {
          "output_type": "execute_result",
          "data": {
            "text/plain": [
              "['customers', 'orders']"
            ]
          },
          "metadata": {},
          "execution_count": 74
        }
      ]
    },
    {
      "cell_type": "code",
      "source": [],
      "metadata": {
        "id": "wWxdoLunyCC4"
      },
      "execution_count": 74,
      "outputs": []
    }
  ]
}